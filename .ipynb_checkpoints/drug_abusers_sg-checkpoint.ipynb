{
 "cells": [
  {
   "cell_type": "markdown",
   "metadata": {},
   "source": [
    "# Demographics of Drug Abusers in Singapore\n",
    "\n",
    "Data were taken from https://data.gov.sg/dataset/demographic-profile-of-drug-abusers"
   ]
  },
  {
   "cell_type": "code",
   "execution_count": null,
   "metadata": {},
   "outputs": [],
   "source": [
    "import pandas as pd\n",
    "import numpy as np\n",
    "import matplotlib.pyplot as plt\n",
    "\n",
    "path_status = './demographic-profile-of-drug-abusers/drug-abusers-by-status.csv'\n",
    "path_age = './demographic-profile-of-drug-abusers/drug-abusers-by-age-group.csv'\n",
    "path_ethnic = './demographic-profile-of-drug-abusers/drug-abusers-by-ethnic-group.csv'\n",
    "path_gender = './demographic-profile-of-drug-abusers/drug-abusers-by-gender.csv'\n",
    "path_drugs = './demographic-profile-of-drug-abusers/drug-abusers-by-major-drugs-of-abuse.csv'\n",
    "\n",
    "by_status = pd.read_csv(path_status)\n",
    "by_age = pd.read_csv(path_age)\n",
    "by_ethnic = pd.read_csv(path_ethnic)\n",
    "by_gender = pd.read_csv(path_gender)\n",
    "by_drugs = pd.read_csv(path_drugs)"
   ]
  },
  {
   "cell_type": "markdown",
   "metadata": {},
   "source": [
    "### 1. Number of drug abusers in Singapore has been increasing since 2005\n",
    "\n",
    "The number reached the highest point at total of **3581 drug abusers in 2013**.\n"
   ]
  },
  {
   "cell_type": "code",
   "execution_count": null,
   "metadata": {},
   "outputs": [],
   "source": [
    "by_status_pivot = pd.pivot_table(by_status,index=['year'], columns=['status'],values=['no_of_drug_abusers'])\n",
    "by_status_pivot.columns = by_status_pivot.columns.get_level_values(1)\n",
    "by_status_pivot = by_status_pivot.reset_index()\n",
    "by_status_pivot.head()"
   ]
  },
  {
   "cell_type": "code",
   "execution_count": 72,
   "metadata": {},
   "outputs": [
    {
     "data": {
      "text/html": [
       "<script>requirejs.config({paths: { 'plotly': ['https://cdn.plot.ly/plotly-latest.min']},});if(!window.Plotly) {{require(['plotly'],function(plotly) {window.Plotly=plotly;});}}</script>"
      ],
      "text/vnd.plotly.v1+html": [
       "<script>requirejs.config({paths: { 'plotly': ['https://cdn.plot.ly/plotly-latest.min']},});if(!window.Plotly) {{require(['plotly'],function(plotly) {window.Plotly=plotly;});}}</script>"
      ]
     },
     "metadata": {},
     "output_type": "display_data"
    },
    {
     "data": {
      "application/vnd.plotly.v1+json": {
       "data": [
        {
         "mode": "lines",
         "type": "scatter",
         "x": [
          2003,
          2004,
          2005,
          2006,
          2007,
          2008,
          2009,
          2010,
          2011,
          2012,
          2013,
          2014,
          2015,
          2016,
          2017
         ],
         "y": [
          1809,
          956,
          793,
          1218,
          2211,
          2537,
          2616,
          2887,
          3326,
          3507,
          3581,
          3158,
          3343,
          3265,
          3089
         ]
        },
        {
         "mode": "lines",
         "name": "New",
         "type": "scatter",
         "x": [
          2003,
          2004,
          2005,
          2006,
          2007,
          2008,
          2009,
          2010,
          2011,
          2012,
          2013,
          2014,
          2015,
          2016,
          2017
         ],
         "y": [
          730,
          603,
          453,
          477,
          520,
          1060,
          1200,
          1327,
          1128,
          1092,
          1110,
          1093,
          1309,
          1348,
          1249
         ]
        },
        {
         "mode": "lines",
         "name": "Repeat",
         "type": "scatter",
         "x": [
          2003,
          2004,
          2005,
          2006,
          2007,
          2008,
          2009,
          2010,
          2011,
          2012,
          2013,
          2014,
          2015,
          2016,
          2017
         ],
         "y": [
          1079,
          353,
          340,
          741,
          1691,
          1477,
          1416,
          1560,
          2198,
          2415,
          2471,
          2065,
          2034,
          1917,
          1840
         ]
        }
       ],
       "layout": {
        "showlegend": false,
        "title": "Number of Drug Abusers",
        "updatemenus": [
         {
          "buttons": [
           {
            "args": [
             {
              "visible": [
               true,
               false,
               false
              ]
             },
             {
              "title": "Total Number of Drug Abusers"
             }
            ],
            "label": "Total",
            "method": "update"
           },
           {
            "args": [
             {
              "visible": [
               false,
               true,
               true
              ]
             },
             {
              "title": "New vs Repeat Drug Abusers"
             }
            ],
            "label": "New vs Repeat",
            "method": "update"
           }
          ],
          "direction": "left",
          "pad": {
           "r": 10,
           "t": 10
          },
          "type": "buttons",
          "x": 0,
          "xanchor": "left",
          "y": 1.1,
          "yanchor": "top"
         }
        ]
       }
      },
      "text/html": [
       "<div id=\"280d9af0-da90-44a4-8eae-79eb6f48b022\" style=\"height: 525px; width: 100%;\" class=\"plotly-graph-div\"></div><script type=\"text/javascript\">require([\"plotly\"], function(Plotly) { window.PLOTLYENV=window.PLOTLYENV || {};window.PLOTLYENV.BASE_URL=\"https://plot.ly\";Plotly.newPlot(\"280d9af0-da90-44a4-8eae-79eb6f48b022\", [{\"type\": \"scatter\", \"x\": [2003, 2004, 2005, 2006, 2007, 2008, 2009, 2010, 2011, 2012, 2013, 2014, 2015, 2016, 2017], \"y\": [1809, 956, 793, 1218, 2211, 2537, 2616, 2887, 3326, 3507, 3581, 3158, 3343, 3265, 3089], \"mode\": \"lines\"}, {\"type\": \"scatter\", \"x\": [2003, 2004, 2005, 2006, 2007, 2008, 2009, 2010, 2011, 2012, 2013, 2014, 2015, 2016, 2017], \"y\": [730, 603, 453, 477, 520, 1060, 1200, 1327, 1128, 1092, 1110, 1093, 1309, 1348, 1249], \"mode\": \"lines\", \"name\": \"New\"}, {\"type\": \"scatter\", \"x\": [2003, 2004, 2005, 2006, 2007, 2008, 2009, 2010, 2011, 2012, 2013, 2014, 2015, 2016, 2017], \"y\": [1079, 353, 340, 741, 1691, 1477, 1416, 1560, 2198, 2415, 2471, 2065, 2034, 1917, 1840], \"mode\": \"lines\", \"name\": \"Repeat\"}], {\"title\": \"Number of Drug Abusers\", \"showlegend\": false, \"updatemenus\": [{\"type\": \"buttons\", \"buttons\": [{\"label\": \"Total\", \"method\": \"update\", \"args\": [{\"visible\": [true, false, false]}, {\"title\": \"Total Number of Drug Abusers\"}]}, {\"label\": \"New vs Repeat\", \"method\": \"update\", \"args\": [{\"visible\": [false, true, true]}, {\"title\": \"New vs Repeat Drug Abusers\"}]}], \"direction\": \"left\", \"pad\": {\"r\": 10, \"t\": 10}, \"x\": 0, \"xanchor\": \"left\", \"y\": 1.1, \"yanchor\": \"top\"}]}, {\"showLink\": true, \"linkText\": \"Export to plot.ly\"})});</script>"
      ],
      "text/vnd.plotly.v1+html": [
       "<div id=\"280d9af0-da90-44a4-8eae-79eb6f48b022\" style=\"height: 525px; width: 100%;\" class=\"plotly-graph-div\"></div><script type=\"text/javascript\">require([\"plotly\"], function(Plotly) { window.PLOTLYENV=window.PLOTLYENV || {};window.PLOTLYENV.BASE_URL=\"https://plot.ly\";Plotly.newPlot(\"280d9af0-da90-44a4-8eae-79eb6f48b022\", [{\"type\": \"scatter\", \"x\": [2003, 2004, 2005, 2006, 2007, 2008, 2009, 2010, 2011, 2012, 2013, 2014, 2015, 2016, 2017], \"y\": [1809, 956, 793, 1218, 2211, 2537, 2616, 2887, 3326, 3507, 3581, 3158, 3343, 3265, 3089], \"mode\": \"lines\"}, {\"type\": \"scatter\", \"x\": [2003, 2004, 2005, 2006, 2007, 2008, 2009, 2010, 2011, 2012, 2013, 2014, 2015, 2016, 2017], \"y\": [730, 603, 453, 477, 520, 1060, 1200, 1327, 1128, 1092, 1110, 1093, 1309, 1348, 1249], \"mode\": \"lines\", \"name\": \"New\"}, {\"type\": \"scatter\", \"x\": [2003, 2004, 2005, 2006, 2007, 2008, 2009, 2010, 2011, 2012, 2013, 2014, 2015, 2016, 2017], \"y\": [1079, 353, 340, 741, 1691, 1477, 1416, 1560, 2198, 2415, 2471, 2065, 2034, 1917, 1840], \"mode\": \"lines\", \"name\": \"Repeat\"}], {\"title\": \"Number of Drug Abusers\", \"showlegend\": false, \"updatemenus\": [{\"type\": \"buttons\", \"buttons\": [{\"label\": \"Total\", \"method\": \"update\", \"args\": [{\"visible\": [true, false, false]}, {\"title\": \"Total Number of Drug Abusers\"}]}, {\"label\": \"New vs Repeat\", \"method\": \"update\", \"args\": [{\"visible\": [false, true, true]}, {\"title\": \"New vs Repeat Drug Abusers\"}]}], \"direction\": \"left\", \"pad\": {\"r\": 10, \"t\": 10}, \"x\": 0, \"xanchor\": \"left\", \"y\": 1.1, \"yanchor\": \"top\"}]}, {\"showLink\": true, \"linkText\": \"Export to plot.ly\"})});</script>"
      ]
     },
     "metadata": {},
     "output_type": "display_data"
    }
   ],
   "source": [
    "import plotly.plotly as py\n",
    "from plotly.offline import download_plotlyjs, init_notebook_mode, plot, iplot\n",
    "import plotly.graph_objs as go\n",
    "\n",
    "init_notebook_mode(connected=True)\n",
    "\n",
    "trace0 = go.Scatter(\n",
    "        x=by_status_pivot['year'],\n",
    "        y=by_status_pivot['Total'],\n",
    "        mode='lines',\n",
    "        name='Total'\n",
    "        )\n",
    "\n",
    "trace1 = go.Scatter(\n",
    "        x=by_status_pivot['year'],\n",
    "        y=by_status_pivot['New'],\n",
    "        mode='lines',\n",
    "        name='New'\n",
    "        )\n",
    "\n",
    "trace2 = go.Scatter(\n",
    "        x=by_status_pivot['year'],\n",
    "        y=by_status_pivot['Repeat'],\n",
    "        mode='lines',\n",
    "        name='Repeat'\n",
    "        )\n",
    "\n",
    "data=[trace0,trace1,trace2]\n",
    "\n",
    "updatemenus = list([\n",
    "        dict(type='buttons',\n",
    "            buttons=list([\n",
    "                dict(label = 'Total',\n",
    "                    method = 'update',\n",
    "                    args = [{'visible':[True,False,False]},\n",
    "                           {'title': 'Total Number of Drug Abusers'}]),\n",
    "                dict(label = 'New vs Repeat',\n",
    "                    method = 'update',\n",
    "                    args=[{'visible':[False,True,True]},\n",
    "                         {'title': 'New vs Repeat Drug Abusers'}]),\n",
    "            ]),\n",
    "            direction = 'left',\n",
    "            pad = {'r': 10, 't': 10},\n",
    "            x = 0,\n",
    "            xanchor = 'left',\n",
    "            y = 1.1,\n",
    "            yanchor = 'top'\n",
    "        )\n",
    "    ])\n",
    "\n",
    "layout = dict(title = 'Number of Drug Abusers', showlegend=False, updatemenus=updatemenus)\n",
    "fig = dict(data=data, layout=layout)\n",
    "iplot(fig, filename = 'jupyter/by-status')"
   ]
  },
  {
   "cell_type": "markdown",
   "metadata": {},
   "source": [
    "# 2. Most drug abusers are males. \n",
    "\n",
    "Females take up **~14%** of the population."
   ]
  },
  {
   "cell_type": "code",
   "execution_count": 99,
   "metadata": {},
   "outputs": [
    {
     "data": {
      "text/html": [
       "<div>\n",
       "<style scoped>\n",
       "    .dataframe tbody tr th:only-of-type {\n",
       "        vertical-align: middle;\n",
       "    }\n",
       "\n",
       "    .dataframe tbody tr th {\n",
       "        vertical-align: top;\n",
       "    }\n",
       "\n",
       "    .dataframe thead th {\n",
       "        text-align: right;\n",
       "    }\n",
       "</style>\n",
       "<table border=\"1\" class=\"dataframe\">\n",
       "  <thead>\n",
       "    <tr style=\"text-align: right;\">\n",
       "      <th>gender</th>\n",
       "      <th>year</th>\n",
       "      <th>status</th>\n",
       "      <th>Female</th>\n",
       "      <th>Male</th>\n",
       "      <th>Female_Percentage</th>\n",
       "    </tr>\n",
       "  </thead>\n",
       "  <tbody>\n",
       "    <tr>\n",
       "      <th>1</th>\n",
       "      <td>2003</td>\n",
       "      <td>Total</td>\n",
       "      <td>282</td>\n",
       "      <td>1527</td>\n",
       "      <td>15.588723</td>\n",
       "    </tr>\n",
       "    <tr>\n",
       "      <th>3</th>\n",
       "      <td>2004</td>\n",
       "      <td>Total</td>\n",
       "      <td>157</td>\n",
       "      <td>799</td>\n",
       "      <td>16.422594</td>\n",
       "    </tr>\n",
       "    <tr>\n",
       "      <th>5</th>\n",
       "      <td>2005</td>\n",
       "      <td>Total</td>\n",
       "      <td>143</td>\n",
       "      <td>650</td>\n",
       "      <td>18.032787</td>\n",
       "    </tr>\n",
       "    <tr>\n",
       "      <th>7</th>\n",
       "      <td>2006</td>\n",
       "      <td>Total</td>\n",
       "      <td>177</td>\n",
       "      <td>1041</td>\n",
       "      <td>14.532020</td>\n",
       "    </tr>\n",
       "    <tr>\n",
       "      <th>9</th>\n",
       "      <td>2007</td>\n",
       "      <td>Total</td>\n",
       "      <td>273</td>\n",
       "      <td>1938</td>\n",
       "      <td>12.347354</td>\n",
       "    </tr>\n",
       "  </tbody>\n",
       "</table>\n",
       "</div>"
      ],
      "text/plain": [
       "gender  year status  Female  Male  Female_Percentage\n",
       "1       2003  Total     282  1527          15.588723\n",
       "3       2004  Total     157   799          16.422594\n",
       "5       2005  Total     143   650          18.032787\n",
       "7       2006  Total     177  1041          14.532020\n",
       "9       2007  Total     273  1938          12.347354"
      ]
     },
     "execution_count": 99,
     "metadata": {},
     "output_type": "execute_result"
    }
   ],
   "source": [
    "by_gender_pivot = pd.pivot_table(by_gender, index=['year','status'], columns=['gender'], values=['no_of_drug_abusers'])\n",
    "by_gender_pivot.columns = by_gender_pivot.columns.get_level_values(1)\n",
    "by_gender_pivot = by_gender_pivot.reset_index()\n",
    "by_gender_pivot['status'] = by_gender_pivot['status'].replace('Total ','Total')\n",
    "by_gender_pivot_Total = by_gender_pivot[by_gender_pivot['status'] == 'Total']\n",
    "by_gender_pivot_Total=by_gender_pivot_Total.assign(Female_Percentage = by_gender_pivot_Total['Female']*100/(by_gender_pivot_Total['Female']+by_gender_pivot_Total['Male']))\n",
    "by_gender_pivot_Total.head()"
   ]
  },
  {
   "cell_type": "code",
   "execution_count": 88,
   "metadata": {},
   "outputs": [
    {
     "data": {
      "text/html": [
       "<script>requirejs.config({paths: { 'plotly': ['https://cdn.plot.ly/plotly-latest.min']},});if(!window.Plotly) {{require(['plotly'],function(plotly) {window.Plotly=plotly;});}}</script>"
      ],
      "text/vnd.plotly.v1+html": [
       "<script>requirejs.config({paths: { 'plotly': ['https://cdn.plot.ly/plotly-latest.min']},});if(!window.Plotly) {{require(['plotly'],function(plotly) {window.Plotly=plotly;});}}</script>"
      ]
     },
     "metadata": {},
     "output_type": "display_data"
    },
    {
     "data": {
      "application/vnd.plotly.v1+json": {
       "data": [
        {
         "mode": "lines",
         "name": "Male",
         "type": "scatter",
         "x": [
          2003,
          2004,
          2005,
          2006,
          2007,
          2008,
          2009,
          2010,
          2011,
          2012,
          2013,
          2014,
          2015,
          2016,
          2017
         ],
         "y": [
          1527,
          799,
          650,
          1041,
          1938,
          2215,
          2290,
          2511,
          2887,
          3055,
          3079,
          2716,
          2819,
          2773,
          2569
         ]
        },
        {
         "mode": "lines",
         "name": "Female",
         "type": "scatter",
         "x": [
          2003,
          2004,
          2005,
          2006,
          2007,
          2008,
          2009,
          2010,
          2011,
          2012,
          2013,
          2014,
          2015,
          2016,
          2017
         ],
         "y": [
          282,
          157,
          143,
          177,
          273,
          322,
          326,
          376,
          439,
          452,
          502,
          442,
          524,
          492,
          520
         ]
        }
       ],
       "layout": {
        "showlegend": false,
        "title": "Number of Drug Abusers by Gender"
       }
      },
      "text/html": [
       "<div id=\"075e841d-94e1-48b1-a54c-ec37d1984a10\" style=\"height: 525px; width: 100%;\" class=\"plotly-graph-div\"></div><script type=\"text/javascript\">require([\"plotly\"], function(Plotly) { window.PLOTLYENV=window.PLOTLYENV || {};window.PLOTLYENV.BASE_URL=\"https://plot.ly\";Plotly.newPlot(\"075e841d-94e1-48b1-a54c-ec37d1984a10\", [{\"type\": \"scatter\", \"x\": [2003, 2004, 2005, 2006, 2007, 2008, 2009, 2010, 2011, 2012, 2013, 2014, 2015, 2016, 2017], \"y\": [1527, 799, 650, 1041, 1938, 2215, 2290, 2511, 2887, 3055, 3079, 2716, 2819, 2773, 2569], \"mode\": \"lines\", \"name\": \"Male\"}, {\"type\": \"scatter\", \"x\": [2003, 2004, 2005, 2006, 2007, 2008, 2009, 2010, 2011, 2012, 2013, 2014, 2015, 2016, 2017], \"y\": [282, 157, 143, 177, 273, 322, 326, 376, 439, 452, 502, 442, 524, 492, 520], \"mode\": \"lines\", \"name\": \"Female\"}], {\"title\": \"Number of Drug Abusers by Gender\", \"showlegend\": false}, {\"showLink\": true, \"linkText\": \"Export to plot.ly\"})});</script>"
      ],
      "text/vnd.plotly.v1+html": [
       "<div id=\"075e841d-94e1-48b1-a54c-ec37d1984a10\" style=\"height: 525px; width: 100%;\" class=\"plotly-graph-div\"></div><script type=\"text/javascript\">require([\"plotly\"], function(Plotly) { window.PLOTLYENV=window.PLOTLYENV || {};window.PLOTLYENV.BASE_URL=\"https://plot.ly\";Plotly.newPlot(\"075e841d-94e1-48b1-a54c-ec37d1984a10\", [{\"type\": \"scatter\", \"x\": [2003, 2004, 2005, 2006, 2007, 2008, 2009, 2010, 2011, 2012, 2013, 2014, 2015, 2016, 2017], \"y\": [1527, 799, 650, 1041, 1938, 2215, 2290, 2511, 2887, 3055, 3079, 2716, 2819, 2773, 2569], \"mode\": \"lines\", \"name\": \"Male\"}, {\"type\": \"scatter\", \"x\": [2003, 2004, 2005, 2006, 2007, 2008, 2009, 2010, 2011, 2012, 2013, 2014, 2015, 2016, 2017], \"y\": [282, 157, 143, 177, 273, 322, 326, 376, 439, 452, 502, 442, 524, 492, 520], \"mode\": \"lines\", \"name\": \"Female\"}], {\"title\": \"Number of Drug Abusers by Gender\", \"showlegend\": false}, {\"showLink\": true, \"linkText\": \"Export to plot.ly\"})});</script>"
      ]
     },
     "metadata": {},
     "output_type": "display_data"
    }
   ],
   "source": [
    "import plotly.plotly as py\n",
    "from plotly.offline import download_plotlyjs, init_notebook_mode, plot, iplot\n",
    "import plotly.graph_objs as go\n",
    "\n",
    "init_notebook_mode(connected=True)\n",
    "\n",
    "trace0 = go.Scatter(\n",
    "        x=by_gender_pivot_Total['year'],\n",
    "        y=by_gender_pivot_Total['Male'],\n",
    "        mode='lines',\n",
    "        name='Male'\n",
    "        )\n",
    "\n",
    "trace1 = go.Scatter(\n",
    "        x=by_gender_pivot_Total['year'],\n",
    "        y=by_gender_pivot_Total['Female'],\n",
    "        mode='lines',\n",
    "        name='Female'\n",
    "        )\n",
    "\n",
    "data=[trace0,trace1]\n",
    "\n",
    "layout = dict(title = 'Number of Drug Abusers by Gender', showlegend=False)\n",
    "fig = dict(data=data, layout=layout)\n",
    "iplot(fig, filename = 'jupyter/by-gender')"
   ]
  },
  {
   "cell_type": "markdown",
   "metadata": {},
   "source": [
    "# 3. ~70% of the population are young and middle-aged adults\n",
    "\n",
    "Top 3 age groups are **20-29, 30-39, 40-49**."
   ]
  },
  {
   "cell_type": "code",
   "execution_count": 105,
   "metadata": {},
   "outputs": [
    {
     "data": {
      "text/html": [
       "<div>\n",
       "<style scoped>\n",
       "    .dataframe tbody tr th:only-of-type {\n",
       "        vertical-align: middle;\n",
       "    }\n",
       "\n",
       "    .dataframe tbody tr th {\n",
       "        vertical-align: top;\n",
       "    }\n",
       "\n",
       "    .dataframe thead th {\n",
       "        text-align: right;\n",
       "    }\n",
       "</style>\n",
       "<table border=\"1\" class=\"dataframe\">\n",
       "  <thead>\n",
       "    <tr style=\"text-align: right;\">\n",
       "      <th>age_group</th>\n",
       "      <th>year</th>\n",
       "      <th>status</th>\n",
       "      <th>20-29</th>\n",
       "      <th>30-39</th>\n",
       "      <th>40-49</th>\n",
       "      <th>50-59</th>\n",
       "      <th>60 &amp; above</th>\n",
       "      <th>Below 20</th>\n",
       "    </tr>\n",
       "  </thead>\n",
       "  <tbody>\n",
       "    <tr>\n",
       "      <th>1</th>\n",
       "      <td>2003</td>\n",
       "      <td>Total</td>\n",
       "      <td>634</td>\n",
       "      <td>502</td>\n",
       "      <td>395</td>\n",
       "      <td>75</td>\n",
       "      <td>12</td>\n",
       "      <td>191</td>\n",
       "    </tr>\n",
       "    <tr>\n",
       "      <th>3</th>\n",
       "      <td>2004</td>\n",
       "      <td>Total</td>\n",
       "      <td>424</td>\n",
       "      <td>255</td>\n",
       "      <td>145</td>\n",
       "      <td>23</td>\n",
       "      <td>2</td>\n",
       "      <td>107</td>\n",
       "    </tr>\n",
       "    <tr>\n",
       "      <th>5</th>\n",
       "      <td>2005</td>\n",
       "      <td>Total</td>\n",
       "      <td>377</td>\n",
       "      <td>220</td>\n",
       "      <td>113</td>\n",
       "      <td>25</td>\n",
       "      <td>1</td>\n",
       "      <td>57</td>\n",
       "    </tr>\n",
       "    <tr>\n",
       "      <th>7</th>\n",
       "      <td>2006</td>\n",
       "      <td>Total</td>\n",
       "      <td>367</td>\n",
       "      <td>416</td>\n",
       "      <td>303</td>\n",
       "      <td>75</td>\n",
       "      <td>7</td>\n",
       "      <td>50</td>\n",
       "    </tr>\n",
       "    <tr>\n",
       "      <th>9</th>\n",
       "      <td>2007</td>\n",
       "      <td>Total</td>\n",
       "      <td>529</td>\n",
       "      <td>723</td>\n",
       "      <td>658</td>\n",
       "      <td>210</td>\n",
       "      <td>12</td>\n",
       "      <td>79</td>\n",
       "    </tr>\n",
       "  </tbody>\n",
       "</table>\n",
       "</div>"
      ],
      "text/plain": [
       "age_group  year status  20-29  30-39  40-49  50-59  60 & above  Below 20\n",
       "1          2003  Total    634    502    395     75          12       191\n",
       "3          2004  Total    424    255    145     23           2       107\n",
       "5          2005  Total    377    220    113     25           1        57\n",
       "7          2006  Total    367    416    303     75           7        50\n",
       "9          2007  Total    529    723    658    210          12        79"
      ]
     },
     "execution_count": 105,
     "metadata": {},
     "output_type": "execute_result"
    }
   ],
   "source": [
    "by_age_pivot = pd.pivot_table(by_age, index=['year','status'], columns=['age_group'], values=['no_of_drug_abusers'])\n",
    "by_age_pivot.columns = by_age_pivot.columns.get_level_values(1)\n",
    "by_age_pivot = by_age_pivot.reset_index()\n",
    "by_age_pivot['status'] = by_age_pivot['status'].replace('Total ','Total')\n",
    "by_age_pivot_Total = by_age_pivot[by_age_pivot['status'] == 'Total']\n",
    "by_age_pivot_Total.head()"
   ]
  },
  {
   "cell_type": "code",
   "execution_count": 106,
   "metadata": {},
   "outputs": [
    {
     "data": {
      "text/html": [
       "<script>requirejs.config({paths: { 'plotly': ['https://cdn.plot.ly/plotly-latest.min']},});if(!window.Plotly) {{require(['plotly'],function(plotly) {window.Plotly=plotly;});}}</script>"
      ],
      "text/vnd.plotly.v1+html": [
       "<script>requirejs.config({paths: { 'plotly': ['https://cdn.plot.ly/plotly-latest.min']},});if(!window.Plotly) {{require(['plotly'],function(plotly) {window.Plotly=plotly;});}}</script>"
      ]
     },
     "metadata": {},
     "output_type": "display_data"
    },
    {
     "data": {
      "application/vnd.plotly.v1+json": {
       "data": [
        {
         "mode": "lines",
         "name": "Below 20",
         "type": "scatter",
         "x": [
          2003,
          2004,
          2005,
          2006,
          2007,
          2008,
          2009,
          2010,
          2011,
          2012,
          2013,
          2014,
          2015,
          2016,
          2017
         ],
         "y": [
          191,
          107,
          57,
          50,
          79,
          89,
          119,
          163,
          260,
          190,
          181,
          190,
          283,
          277,
          276
         ]
        },
        {
         "mode": "lines",
         "name": "20-29",
         "type": "scatter",
         "x": [
          2003,
          2004,
          2005,
          2006,
          2007,
          2008,
          2009,
          2010,
          2011,
          2012,
          2013,
          2014,
          2015,
          2016,
          2017
         ],
         "y": [
          634,
          424,
          377,
          367,
          529,
          551,
          630,
          663,
          851,
          853,
          880,
          920,
          1053,
          1064,
          954
         ]
        },
        {
         "mode": "lines",
         "name": "30-39",
         "type": "scatter",
         "x": [
          2003,
          2004,
          2005,
          2006,
          2007,
          2008,
          2009,
          2010,
          2011,
          2012,
          2013,
          2014,
          2015,
          2016,
          2017
         ],
         "y": [
          502,
          255,
          220,
          416,
          723,
          777,
          754,
          760,
          776,
          796,
          901,
          685,
          754,
          774,
          779
         ]
        },
        {
         "mode": "lines",
         "name": "40-49",
         "type": "scatter",
         "x": [
          2003,
          2004,
          2005,
          2006,
          2007,
          2008,
          2009,
          2010,
          2011,
          2012,
          2013,
          2014,
          2015,
          2016,
          2017
         ],
         "y": [
          395,
          145,
          113,
          303,
          658,
          741,
          726,
          799,
          800,
          951,
          848,
          726,
          640,
          618,
          538
         ]
        },
        {
         "mode": "lines",
         "name": "50-59",
         "type": "scatter",
         "x": [
          2003,
          2004,
          2005,
          2006,
          2007,
          2008,
          2009,
          2010,
          2011,
          2012,
          2013,
          2014,
          2015,
          2016,
          2017
         ],
         "y": [
          75,
          23,
          25,
          75,
          210,
          342,
          351,
          434,
          564,
          626,
          672,
          534,
          500,
          419,
          402
         ]
        },
        {
         "mode": "lines",
         "name": "60 & above",
         "type": "scatter",
         "x": [
          2003,
          2004,
          2005,
          2006,
          2007,
          2008,
          2009,
          2010,
          2011,
          2012,
          2013,
          2014,
          2015,
          2016,
          2017
         ],
         "y": [
          12,
          2,
          1,
          7,
          12,
          37,
          36,
          68,
          75,
          91,
          99,
          103,
          113,
          113,
          140
         ]
        }
       ],
       "layout": {
        "showlegend": false,
        "title": "Number of Drug Abusers by Age"
       }
      },
      "text/html": [
       "<div id=\"0a60432a-97c1-4321-a1bd-480a5f644d35\" style=\"height: 525px; width: 100%;\" class=\"plotly-graph-div\"></div><script type=\"text/javascript\">require([\"plotly\"], function(Plotly) { window.PLOTLYENV=window.PLOTLYENV || {};window.PLOTLYENV.BASE_URL=\"https://plot.ly\";Plotly.newPlot(\"0a60432a-97c1-4321-a1bd-480a5f644d35\", [{\"type\": \"scatter\", \"x\": [2003, 2004, 2005, 2006, 2007, 2008, 2009, 2010, 2011, 2012, 2013, 2014, 2015, 2016, 2017], \"y\": [191, 107, 57, 50, 79, 89, 119, 163, 260, 190, 181, 190, 283, 277, 276], \"mode\": \"lines\", \"name\": \"Below 20\"}, {\"type\": \"scatter\", \"x\": [2003, 2004, 2005, 2006, 2007, 2008, 2009, 2010, 2011, 2012, 2013, 2014, 2015, 2016, 2017], \"y\": [634, 424, 377, 367, 529, 551, 630, 663, 851, 853, 880, 920, 1053, 1064, 954], \"mode\": \"lines\", \"name\": \"20-29\"}, {\"type\": \"scatter\", \"x\": [2003, 2004, 2005, 2006, 2007, 2008, 2009, 2010, 2011, 2012, 2013, 2014, 2015, 2016, 2017], \"y\": [502, 255, 220, 416, 723, 777, 754, 760, 776, 796, 901, 685, 754, 774, 779], \"mode\": \"lines\", \"name\": \"30-39\"}, {\"type\": \"scatter\", \"x\": [2003, 2004, 2005, 2006, 2007, 2008, 2009, 2010, 2011, 2012, 2013, 2014, 2015, 2016, 2017], \"y\": [395, 145, 113, 303, 658, 741, 726, 799, 800, 951, 848, 726, 640, 618, 538], \"mode\": \"lines\", \"name\": \"40-49\"}, {\"type\": \"scatter\", \"x\": [2003, 2004, 2005, 2006, 2007, 2008, 2009, 2010, 2011, 2012, 2013, 2014, 2015, 2016, 2017], \"y\": [75, 23, 25, 75, 210, 342, 351, 434, 564, 626, 672, 534, 500, 419, 402], \"mode\": \"lines\", \"name\": \"50-59\"}, {\"type\": \"scatter\", \"x\": [2003, 2004, 2005, 2006, 2007, 2008, 2009, 2010, 2011, 2012, 2013, 2014, 2015, 2016, 2017], \"y\": [12, 2, 1, 7, 12, 37, 36, 68, 75, 91, 99, 103, 113, 113, 140], \"mode\": \"lines\", \"name\": \"60 & above\"}], {\"title\": \"Number of Drug Abusers by Age\", \"showlegend\": false}, {\"showLink\": true, \"linkText\": \"Export to plot.ly\"})});</script>"
      ],
      "text/vnd.plotly.v1+html": [
       "<div id=\"0a60432a-97c1-4321-a1bd-480a5f644d35\" style=\"height: 525px; width: 100%;\" class=\"plotly-graph-div\"></div><script type=\"text/javascript\">require([\"plotly\"], function(Plotly) { window.PLOTLYENV=window.PLOTLYENV || {};window.PLOTLYENV.BASE_URL=\"https://plot.ly\";Plotly.newPlot(\"0a60432a-97c1-4321-a1bd-480a5f644d35\", [{\"type\": \"scatter\", \"x\": [2003, 2004, 2005, 2006, 2007, 2008, 2009, 2010, 2011, 2012, 2013, 2014, 2015, 2016, 2017], \"y\": [191, 107, 57, 50, 79, 89, 119, 163, 260, 190, 181, 190, 283, 277, 276], \"mode\": \"lines\", \"name\": \"Below 20\"}, {\"type\": \"scatter\", \"x\": [2003, 2004, 2005, 2006, 2007, 2008, 2009, 2010, 2011, 2012, 2013, 2014, 2015, 2016, 2017], \"y\": [634, 424, 377, 367, 529, 551, 630, 663, 851, 853, 880, 920, 1053, 1064, 954], \"mode\": \"lines\", \"name\": \"20-29\"}, {\"type\": \"scatter\", \"x\": [2003, 2004, 2005, 2006, 2007, 2008, 2009, 2010, 2011, 2012, 2013, 2014, 2015, 2016, 2017], \"y\": [502, 255, 220, 416, 723, 777, 754, 760, 776, 796, 901, 685, 754, 774, 779], \"mode\": \"lines\", \"name\": \"30-39\"}, {\"type\": \"scatter\", \"x\": [2003, 2004, 2005, 2006, 2007, 2008, 2009, 2010, 2011, 2012, 2013, 2014, 2015, 2016, 2017], \"y\": [395, 145, 113, 303, 658, 741, 726, 799, 800, 951, 848, 726, 640, 618, 538], \"mode\": \"lines\", \"name\": \"40-49\"}, {\"type\": \"scatter\", \"x\": [2003, 2004, 2005, 2006, 2007, 2008, 2009, 2010, 2011, 2012, 2013, 2014, 2015, 2016, 2017], \"y\": [75, 23, 25, 75, 210, 342, 351, 434, 564, 626, 672, 534, 500, 419, 402], \"mode\": \"lines\", \"name\": \"50-59\"}, {\"type\": \"scatter\", \"x\": [2003, 2004, 2005, 2006, 2007, 2008, 2009, 2010, 2011, 2012, 2013, 2014, 2015, 2016, 2017], \"y\": [12, 2, 1, 7, 12, 37, 36, 68, 75, 91, 99, 103, 113, 113, 140], \"mode\": \"lines\", \"name\": \"60 & above\"}], {\"title\": \"Number of Drug Abusers by Age\", \"showlegend\": false}, {\"showLink\": true, \"linkText\": \"Export to plot.ly\"})});</script>"
      ]
     },
     "metadata": {},
     "output_type": "display_data"
    }
   ],
   "source": [
    "import plotly.plotly as py\n",
    "from plotly.offline import download_plotlyjs, init_notebook_mode, plot, iplot\n",
    "import plotly.graph_objs as go\n",
    "\n",
    "init_notebook_mode(connected=True)\n",
    "\n",
    "age_list =['Below 20','20-29','30-39','40-49','50-59','60 & above']\n",
    "data_age=[]\n",
    "for category in age_list:\n",
    "    data = go.Scatter(\n",
    "        x=by_age_pivot_Total['year'],\n",
    "        y=by_age_pivot_Total[category],\n",
    "        mode='lines',\n",
    "        name=category\n",
    "        )\n",
    "    data_age.append(data)\n",
    "    \n",
    "layout = dict(title = 'Number of Drug Abusers by Age', showlegend=False)\n",
    "fig = dict(data=data_age, layout=layout)\n",
    "iplot(fig, filename = 'jupyter/by-age')   \n"
   ]
  },
  {
   "cell_type": "markdown",
   "metadata": {},
   "source": [
    "# 4. More than half are Malays"
   ]
  },
  {
   "cell_type": "code",
   "execution_count": 113,
   "metadata": {},
   "outputs": [
    {
     "data": {
      "text/html": [
       "<div>\n",
       "<style scoped>\n",
       "    .dataframe tbody tr th:only-of-type {\n",
       "        vertical-align: middle;\n",
       "    }\n",
       "\n",
       "    .dataframe tbody tr th {\n",
       "        vertical-align: top;\n",
       "    }\n",
       "\n",
       "    .dataframe thead th {\n",
       "        text-align: right;\n",
       "    }\n",
       "</style>\n",
       "<table border=\"1\" class=\"dataframe\">\n",
       "  <thead>\n",
       "    <tr style=\"text-align: right;\">\n",
       "      <th>ethnic_group</th>\n",
       "      <th>year</th>\n",
       "      <th>status</th>\n",
       "      <th>Chinese</th>\n",
       "      <th>Indian</th>\n",
       "      <th>Malay</th>\n",
       "      <th>Others</th>\n",
       "    </tr>\n",
       "  </thead>\n",
       "  <tbody>\n",
       "    <tr>\n",
       "      <th>1</th>\n",
       "      <td>2003</td>\n",
       "      <td>Total</td>\n",
       "      <td>1098</td>\n",
       "      <td>217</td>\n",
       "      <td>462</td>\n",
       "      <td>32</td>\n",
       "    </tr>\n",
       "    <tr>\n",
       "      <th>3</th>\n",
       "      <td>2004</td>\n",
       "      <td>Total</td>\n",
       "      <td>689</td>\n",
       "      <td>75</td>\n",
       "      <td>177</td>\n",
       "      <td>15</td>\n",
       "    </tr>\n",
       "    <tr>\n",
       "      <th>5</th>\n",
       "      <td>2005</td>\n",
       "      <td>Total</td>\n",
       "      <td>581</td>\n",
       "      <td>61</td>\n",
       "      <td>133</td>\n",
       "      <td>18</td>\n",
       "    </tr>\n",
       "    <tr>\n",
       "      <th>7</th>\n",
       "      <td>2006</td>\n",
       "      <td>Total</td>\n",
       "      <td>647</td>\n",
       "      <td>149</td>\n",
       "      <td>394</td>\n",
       "      <td>28</td>\n",
       "    </tr>\n",
       "    <tr>\n",
       "      <th>9</th>\n",
       "      <td>2007</td>\n",
       "      <td>Total</td>\n",
       "      <td>813</td>\n",
       "      <td>313</td>\n",
       "      <td>1033</td>\n",
       "      <td>52</td>\n",
       "    </tr>\n",
       "  </tbody>\n",
       "</table>\n",
       "</div>"
      ],
      "text/plain": [
       "ethnic_group  year status  Chinese  Indian  Malay  Others\n",
       "1             2003  Total     1098     217    462      32\n",
       "3             2004  Total      689      75    177      15\n",
       "5             2005  Total      581      61    133      18\n",
       "7             2006  Total      647     149    394      28\n",
       "9             2007  Total      813     313   1033      52"
      ]
     },
     "execution_count": 113,
     "metadata": {},
     "output_type": "execute_result"
    }
   ],
   "source": [
    "by_ethnic_pivot = pd.pivot_table(by_ethnic, index=['year','status'], columns=['ethnic_group'], values=['no_of_drug_abusers'])\n",
    "by_ethnic_pivot.columns = by_ethnic_pivot.columns.get_level_values(1)\n",
    "by_ethnic_pivot = by_ethnic_pivot.reset_index()\n",
    "by_ethnic_pivot['status'] = by_ethnic_pivot['status'].replace('Total ','Total')\n",
    "by_ethnic_pivot_Total = by_ethnic_pivot[by_ethnic_pivot['status'] == 'Total']\n",
    "by_ethnic_pivot_Total.head()"
   ]
  },
  {
   "cell_type": "code",
   "execution_count": 111,
   "metadata": {},
   "outputs": [
    {
     "data": {
      "text/html": [
       "<script>requirejs.config({paths: { 'plotly': ['https://cdn.plot.ly/plotly-latest.min']},});if(!window.Plotly) {{require(['plotly'],function(plotly) {window.Plotly=plotly;});}}</script>"
      ],
      "text/vnd.plotly.v1+html": [
       "<script>requirejs.config({paths: { 'plotly': ['https://cdn.plot.ly/plotly-latest.min']},});if(!window.Plotly) {{require(['plotly'],function(plotly) {window.Plotly=plotly;});}}</script>"
      ]
     },
     "metadata": {},
     "output_type": "display_data"
    },
    {
     "data": {
      "application/vnd.plotly.v1+json": {
       "data": [
        {
         "mode": "lines",
         "name": "Chinese",
         "type": "scatter",
         "x": [
          2003,
          2004,
          2005,
          2006,
          2007,
          2008,
          2009,
          2010,
          2011,
          2012,
          2013,
          2014,
          2015,
          2016,
          2017
         ],
         "y": [
          1098,
          689,
          581,
          647,
          813,
          1048,
          1036,
          1050,
          1109,
          1099,
          1259,
          971,
          994,
          935,
          934
         ]
        },
        {
         "mode": "lines",
         "name": "Indian",
         "type": "scatter",
         "x": [
          2003,
          2004,
          2005,
          2006,
          2007,
          2008,
          2009,
          2010,
          2011,
          2012,
          2013,
          2014,
          2015,
          2016,
          2017
         ],
         "y": [
          217,
          75,
          61,
          149,
          313,
          330,
          374,
          403,
          539,
          567,
          541,
          505,
          522,
          521,
          465
         ]
        },
        {
         "mode": "lines",
         "name": "Malay",
         "type": "scatter",
         "x": [
          2003,
          2004,
          2005,
          2006,
          2007,
          2008,
          2009,
          2010,
          2011,
          2012,
          2013,
          2014,
          2015,
          2016,
          2017
         ],
         "y": [
          462,
          177,
          133,
          394,
          1033,
          1123,
          1158,
          1376,
          1603,
          1773,
          1710,
          1624,
          1738,
          1713,
          1616
         ]
        },
        {
         "mode": "lines",
         "name": "Others",
         "type": "scatter",
         "x": [
          2003,
          2004,
          2005,
          2006,
          2007,
          2008,
          2009,
          2010,
          2011,
          2012,
          2013,
          2014,
          2015,
          2016,
          2017
         ],
         "y": [
          32,
          15,
          18,
          28,
          52,
          36,
          48,
          58,
          75,
          68,
          71,
          58,
          89,
          96,
          74
         ]
        }
       ],
       "layout": {
        "showlegend": false,
        "title": "Number of Drug Abusers by Ethnic Group"
       }
      },
      "text/html": [
       "<div id=\"7c40ef21-5144-40fd-ac78-67aad67e1827\" style=\"height: 525px; width: 100%;\" class=\"plotly-graph-div\"></div><script type=\"text/javascript\">require([\"plotly\"], function(Plotly) { window.PLOTLYENV=window.PLOTLYENV || {};window.PLOTLYENV.BASE_URL=\"https://plot.ly\";Plotly.newPlot(\"7c40ef21-5144-40fd-ac78-67aad67e1827\", [{\"type\": \"scatter\", \"x\": [2003, 2004, 2005, 2006, 2007, 2008, 2009, 2010, 2011, 2012, 2013, 2014, 2015, 2016, 2017], \"y\": [1098, 689, 581, 647, 813, 1048, 1036, 1050, 1109, 1099, 1259, 971, 994, 935, 934], \"mode\": \"lines\", \"name\": \"Chinese\"}, {\"type\": \"scatter\", \"x\": [2003, 2004, 2005, 2006, 2007, 2008, 2009, 2010, 2011, 2012, 2013, 2014, 2015, 2016, 2017], \"y\": [217, 75, 61, 149, 313, 330, 374, 403, 539, 567, 541, 505, 522, 521, 465], \"mode\": \"lines\", \"name\": \"Indian\"}, {\"type\": \"scatter\", \"x\": [2003, 2004, 2005, 2006, 2007, 2008, 2009, 2010, 2011, 2012, 2013, 2014, 2015, 2016, 2017], \"y\": [462, 177, 133, 394, 1033, 1123, 1158, 1376, 1603, 1773, 1710, 1624, 1738, 1713, 1616], \"mode\": \"lines\", \"name\": \"Malay\"}, {\"type\": \"scatter\", \"x\": [2003, 2004, 2005, 2006, 2007, 2008, 2009, 2010, 2011, 2012, 2013, 2014, 2015, 2016, 2017], \"y\": [32, 15, 18, 28, 52, 36, 48, 58, 75, 68, 71, 58, 89, 96, 74], \"mode\": \"lines\", \"name\": \"Others\"}], {\"title\": \"Number of Drug Abusers by Ethnic Group\", \"showlegend\": false}, {\"showLink\": true, \"linkText\": \"Export to plot.ly\"})});</script>"
      ],
      "text/vnd.plotly.v1+html": [
       "<div id=\"7c40ef21-5144-40fd-ac78-67aad67e1827\" style=\"height: 525px; width: 100%;\" class=\"plotly-graph-div\"></div><script type=\"text/javascript\">require([\"plotly\"], function(Plotly) { window.PLOTLYENV=window.PLOTLYENV || {};window.PLOTLYENV.BASE_URL=\"https://plot.ly\";Plotly.newPlot(\"7c40ef21-5144-40fd-ac78-67aad67e1827\", [{\"type\": \"scatter\", \"x\": [2003, 2004, 2005, 2006, 2007, 2008, 2009, 2010, 2011, 2012, 2013, 2014, 2015, 2016, 2017], \"y\": [1098, 689, 581, 647, 813, 1048, 1036, 1050, 1109, 1099, 1259, 971, 994, 935, 934], \"mode\": \"lines\", \"name\": \"Chinese\"}, {\"type\": \"scatter\", \"x\": [2003, 2004, 2005, 2006, 2007, 2008, 2009, 2010, 2011, 2012, 2013, 2014, 2015, 2016, 2017], \"y\": [217, 75, 61, 149, 313, 330, 374, 403, 539, 567, 541, 505, 522, 521, 465], \"mode\": \"lines\", \"name\": \"Indian\"}, {\"type\": \"scatter\", \"x\": [2003, 2004, 2005, 2006, 2007, 2008, 2009, 2010, 2011, 2012, 2013, 2014, 2015, 2016, 2017], \"y\": [462, 177, 133, 394, 1033, 1123, 1158, 1376, 1603, 1773, 1710, 1624, 1738, 1713, 1616], \"mode\": \"lines\", \"name\": \"Malay\"}, {\"type\": \"scatter\", \"x\": [2003, 2004, 2005, 2006, 2007, 2008, 2009, 2010, 2011, 2012, 2013, 2014, 2015, 2016, 2017], \"y\": [32, 15, 18, 28, 52, 36, 48, 58, 75, 68, 71, 58, 89, 96, 74], \"mode\": \"lines\", \"name\": \"Others\"}], {\"title\": \"Number of Drug Abusers by Ethnic Group\", \"showlegend\": false}, {\"showLink\": true, \"linkText\": \"Export to plot.ly\"})});</script>"
      ]
     },
     "metadata": {},
     "output_type": "display_data"
    }
   ],
   "source": [
    "import plotly.plotly as py\n",
    "from plotly.offline import download_plotlyjs, init_notebook_mode, plot, iplot\n",
    "import plotly.graph_objs as go\n",
    "\n",
    "init_notebook_mode(connected=True)\n",
    "\n",
    "ethnic_list =['Chinese','Indian','Malay','Others']\n",
    "data_ethnic=[]\n",
    "for category in ethnic_list:\n",
    "    data = go.Scatter(\n",
    "        x=by_ethnic_pivot_Total['year'],\n",
    "        y=by_ethnic_pivot_Total[category],\n",
    "        mode='lines',\n",
    "        name=category\n",
    "        )\n",
    "    data_ethnic.append(data)\n",
    "    \n",
    "layout = dict(title = 'Number of Drug Abusers by Ethnic Group', showlegend=False)\n",
    "fig = dict(data=data_ethnic, layout=layout)\n",
    "iplot(fig, filename = 'jupyter/by-ethnic')  "
   ]
  },
  {
   "cell_type": "markdown",
   "metadata": {},
   "source": [
    "# 5. Most consumed drugs are Methamphetamine and Heroin\n",
    "\n",
    "The rapid growth of number of drug abusers is accompanied by increase in popularity of **Methamphetamine** and **Heroin**.\n",
    "\n",
    "The other drugs are **Buprenorphine, Ketamine and Nimetazepam** that are no longer as popular as they were in the 2000s. "
   ]
  },
  {
   "cell_type": "code",
   "execution_count": 175,
   "metadata": {},
   "outputs": [
    {
     "data": {
      "text/html": [
       "<div>\n",
       "<style scoped>\n",
       "    .dataframe tbody tr th:only-of-type {\n",
       "        vertical-align: middle;\n",
       "    }\n",
       "\n",
       "    .dataframe tbody tr th {\n",
       "        vertical-align: top;\n",
       "    }\n",
       "\n",
       "    .dataframe thead th {\n",
       "        text-align: right;\n",
       "    }\n",
       "</style>\n",
       "<table border=\"1\" class=\"dataframe\">\n",
       "  <thead>\n",
       "    <tr style=\"text-align: right;\">\n",
       "      <th>drug_of_abuse</th>\n",
       "      <th>year</th>\n",
       "      <th>status</th>\n",
       "      <th>Buprenorphine</th>\n",
       "      <th>Cannabis</th>\n",
       "      <th>Cocaine</th>\n",
       "      <th>Ecstasy</th>\n",
       "      <th>Heroin</th>\n",
       "      <th>Ketamine</th>\n",
       "      <th>Methadone</th>\n",
       "      <th>Methamphetamine</th>\n",
       "      <th>NPS</th>\n",
       "      <th>Nimetazepam</th>\n",
       "      <th>Opium</th>\n",
       "    </tr>\n",
       "  </thead>\n",
       "  <tbody>\n",
       "    <tr>\n",
       "      <th>1</th>\n",
       "      <td>2003</td>\n",
       "      <td>Total</td>\n",
       "      <td>0.0</td>\n",
       "      <td>260.0</td>\n",
       "      <td>0.0</td>\n",
       "      <td>114.0</td>\n",
       "      <td>567.0</td>\n",
       "      <td>497.0</td>\n",
       "      <td>0.0</td>\n",
       "      <td>369.0</td>\n",
       "      <td>0.0</td>\n",
       "      <td>0.0</td>\n",
       "      <td>2.0</td>\n",
       "    </tr>\n",
       "    <tr>\n",
       "      <th>3</th>\n",
       "      <td>2004</td>\n",
       "      <td>Total</td>\n",
       "      <td>0.0</td>\n",
       "      <td>117.0</td>\n",
       "      <td>4.0</td>\n",
       "      <td>101.0</td>\n",
       "      <td>111.0</td>\n",
       "      <td>307.0</td>\n",
       "      <td>1.0</td>\n",
       "      <td>125.0</td>\n",
       "      <td>0.0</td>\n",
       "      <td>190.0</td>\n",
       "      <td>0.0</td>\n",
       "    </tr>\n",
       "    <tr>\n",
       "      <th>5</th>\n",
       "      <td>2005</td>\n",
       "      <td>Total</td>\n",
       "      <td>0.0</td>\n",
       "      <td>102.0</td>\n",
       "      <td>0.0</td>\n",
       "      <td>91.0</td>\n",
       "      <td>62.0</td>\n",
       "      <td>192.0</td>\n",
       "      <td>0.0</td>\n",
       "      <td>143.0</td>\n",
       "      <td>0.0</td>\n",
       "      <td>203.0</td>\n",
       "      <td>0.0</td>\n",
       "    </tr>\n",
       "    <tr>\n",
       "      <th>7</th>\n",
       "      <td>2006</td>\n",
       "      <td>Total</td>\n",
       "      <td>419.0</td>\n",
       "      <td>122.0</td>\n",
       "      <td>0.0</td>\n",
       "      <td>67.0</td>\n",
       "      <td>116.0</td>\n",
       "      <td>186.0</td>\n",
       "      <td>0.0</td>\n",
       "      <td>124.0</td>\n",
       "      <td>0.0</td>\n",
       "      <td>181.0</td>\n",
       "      <td>3.0</td>\n",
       "    </tr>\n",
       "    <tr>\n",
       "      <th>9</th>\n",
       "      <td>2007</td>\n",
       "      <td>Total</td>\n",
       "      <td>841.0</td>\n",
       "      <td>102.0</td>\n",
       "      <td>0.0</td>\n",
       "      <td>78.0</td>\n",
       "      <td>690.0</td>\n",
       "      <td>151.0</td>\n",
       "      <td>0.0</td>\n",
       "      <td>221.0</td>\n",
       "      <td>0.0</td>\n",
       "      <td>128.0</td>\n",
       "      <td>0.0</td>\n",
       "    </tr>\n",
       "  </tbody>\n",
       "</table>\n",
       "</div>"
      ],
      "text/plain": [
       "drug_of_abuse  year status  Buprenorphine  Cannabis  Cocaine  Ecstasy  Heroin  \\\n",
       "1              2003  Total            0.0     260.0      0.0    114.0   567.0   \n",
       "3              2004  Total            0.0     117.0      4.0    101.0   111.0   \n",
       "5              2005  Total            0.0     102.0      0.0     91.0    62.0   \n",
       "7              2006  Total          419.0     122.0      0.0     67.0   116.0   \n",
       "9              2007  Total          841.0     102.0      0.0     78.0   690.0   \n",
       "\n",
       "drug_of_abuse  Ketamine  Methadone  Methamphetamine  NPS  Nimetazepam  Opium  \n",
       "1                 497.0        0.0            369.0  0.0          0.0    2.0  \n",
       "3                 307.0        1.0            125.0  0.0        190.0    0.0  \n",
       "5                 192.0        0.0            143.0  0.0        203.0    0.0  \n",
       "7                 186.0        0.0            124.0  0.0        181.0    3.0  \n",
       "9                 151.0        0.0            221.0  0.0        128.0    0.0  "
      ]
     },
     "execution_count": 175,
     "metadata": {},
     "output_type": "execute_result"
    }
   ],
   "source": [
    "by_drugs_pivot = pd.pivot_table(by_drugs, index=['year','status'], columns=['drug_of_abuse'], values=['no_of_drug_abusers'])\n",
    "by_drugs_pivot.columns = by_drugs_pivot.columns.get_level_values(1)\n",
    "by_drugs_pivot = by_drugs_pivot.reset_index()\n",
    "by_drugs_pivot['status'] = by_drugs_pivot['status'].replace('Total ','Total')\n",
    "by_drugs_pivot_Total = by_drugs_pivot[by_drugs_pivot['status'] == 'Total']\n",
    "by_drugs_pivot_Total.head()\n"
   ]
  },
  {
   "cell_type": "code",
   "execution_count": 184,
   "metadata": {
    "scrolled": false
   },
   "outputs": [
    {
     "data": {
      "text/html": [
       "<script>requirejs.config({paths: { 'plotly': ['https://cdn.plot.ly/plotly-latest.min']},});if(!window.Plotly) {{require(['plotly'],function(plotly) {window.Plotly=plotly;});}}</script>"
      ],
      "text/vnd.plotly.v1+html": [
       "<script>requirejs.config({paths: { 'plotly': ['https://cdn.plot.ly/plotly-latest.min']},});if(!window.Plotly) {{require(['plotly'],function(plotly) {window.Plotly=plotly;});}}</script>"
      ]
     },
     "metadata": {},
     "output_type": "display_data"
    },
    {
     "data": {
      "application/vnd.plotly.v1+json": {
       "data": [
        {
         "mode": "lines",
         "name": "Buprenorphine",
         "type": "scatter",
         "x": [
          2003,
          2004,
          2005,
          2006,
          2007,
          2008,
          2009,
          2010,
          2011,
          2012,
          2013,
          2014,
          2015,
          2016,
          2017
         ],
         "y": [
          0,
          0,
          0,
          419,
          841,
          444,
          202,
          54,
          6,
          4,
          0,
          0,
          0,
          0,
          0
         ]
        },
        {
         "mode": "lines",
         "name": "Heroin",
         "type": "scatter",
         "x": [
          2003,
          2004,
          2005,
          2006,
          2007,
          2008,
          2009,
          2010,
          2011,
          2012,
          2013,
          2014,
          2015,
          2016,
          2017
         ],
         "y": [
          567,
          111,
          62,
          116,
          690,
          1216,
          1425,
          1787,
          1924,
          2239,
          2062,
          1560,
          1253,
          1041,
          847
         ]
        },
        {
         "mode": "lines",
         "name": "Ketamine",
         "type": "scatter",
         "x": [
          2003,
          2004,
          2005,
          2006,
          2007,
          2008,
          2009,
          2010,
          2011,
          2012,
          2013,
          2014,
          2015,
          2016,
          2017
         ],
         "y": [
          497,
          307,
          192,
          186,
          151,
          138,
          162,
          138,
          42,
          30,
          32,
          11,
          6,
          5,
          3
         ]
        },
        {
         "mode": "lines",
         "name": "Methamphetamine",
         "type": "scatter",
         "x": [
          2003,
          2004,
          2005,
          2006,
          2007,
          2008,
          2009,
          2010,
          2011,
          2012,
          2013,
          2014,
          2015,
          2016,
          2017
         ],
         "y": [
          369,
          125,
          143,
          124,
          221,
          404,
          542,
          702,
          1157,
          1022,
          1231,
          1348,
          1858,
          1956,
          1989
         ]
        },
        {
         "mode": "lines",
         "name": "Nimetazepam",
         "type": "scatter",
         "x": [
          2003,
          2004,
          2005,
          2006,
          2007,
          2008,
          2009,
          2010,
          2011,
          2012,
          2013,
          2014,
          2015,
          2016,
          2017
         ],
         "y": [
          0,
          190,
          203,
          181,
          128,
          137,
          120,
          58,
          47,
          51,
          47,
          32,
          19,
          18,
          14
         ]
        }
       ],
       "layout": {
        "showlegend": false,
        "title": "Number of Drug Abusers by Drugs Type (Top 5)"
       }
      },
      "text/html": [
       "<div id=\"9490c640-0171-4c9d-931f-3085298a7ec9\" style=\"height: 525px; width: 100%;\" class=\"plotly-graph-div\"></div><script type=\"text/javascript\">require([\"plotly\"], function(Plotly) { window.PLOTLYENV=window.PLOTLYENV || {};window.PLOTLYENV.BASE_URL=\"https://plot.ly\";Plotly.newPlot(\"9490c640-0171-4c9d-931f-3085298a7ec9\", [{\"type\": \"scatter\", \"x\": [2003, 2004, 2005, 2006, 2007, 2008, 2009, 2010, 2011, 2012, 2013, 2014, 2015, 2016, 2017], \"y\": [0.0, 0.0, 0.0, 419.0, 841.0, 444.0, 202.0, 54.0, 6.0, 4.0, 0.0, 0.0, 0.0, 0.0, 0.0], \"mode\": \"lines\", \"name\": \"Buprenorphine\"}, {\"type\": \"scatter\", \"x\": [2003, 2004, 2005, 2006, 2007, 2008, 2009, 2010, 2011, 2012, 2013, 2014, 2015, 2016, 2017], \"y\": [567.0, 111.0, 62.0, 116.0, 690.0, 1216.0, 1425.0, 1787.0, 1924.0, 2239.0, 2062.0, 1560.0, 1253.0, 1041.0, 847.0], \"mode\": \"lines\", \"name\": \"Heroin\"}, {\"type\": \"scatter\", \"x\": [2003, 2004, 2005, 2006, 2007, 2008, 2009, 2010, 2011, 2012, 2013, 2014, 2015, 2016, 2017], \"y\": [497.0, 307.0, 192.0, 186.0, 151.0, 138.0, 162.0, 138.0, 42.0, 30.0, 32.0, 11.0, 6.0, 5.0, 3.0], \"mode\": \"lines\", \"name\": \"Ketamine\"}, {\"type\": \"scatter\", \"x\": [2003, 2004, 2005, 2006, 2007, 2008, 2009, 2010, 2011, 2012, 2013, 2014, 2015, 2016, 2017], \"y\": [369.0, 125.0, 143.0, 124.0, 221.0, 404.0, 542.0, 702.0, 1157.0, 1022.0, 1231.0, 1348.0, 1858.0, 1956.0, 1989.0], \"mode\": \"lines\", \"name\": \"Methamphetamine\"}, {\"type\": \"scatter\", \"x\": [2003, 2004, 2005, 2006, 2007, 2008, 2009, 2010, 2011, 2012, 2013, 2014, 2015, 2016, 2017], \"y\": [0.0, 190.0, 203.0, 181.0, 128.0, 137.0, 120.0, 58.0, 47.0, 51.0, 47.0, 32.0, 19.0, 18.0, 14.0], \"mode\": \"lines\", \"name\": \"Nimetazepam\"}], {\"title\": \"Number of Drug Abusers by Drugs Type (Top 5)\", \"showlegend\": false}, {\"showLink\": true, \"linkText\": \"Export to plot.ly\"})});</script>"
      ],
      "text/vnd.plotly.v1+html": [
       "<div id=\"9490c640-0171-4c9d-931f-3085298a7ec9\" style=\"height: 525px; width: 100%;\" class=\"plotly-graph-div\"></div><script type=\"text/javascript\">require([\"plotly\"], function(Plotly) { window.PLOTLYENV=window.PLOTLYENV || {};window.PLOTLYENV.BASE_URL=\"https://plot.ly\";Plotly.newPlot(\"9490c640-0171-4c9d-931f-3085298a7ec9\", [{\"type\": \"scatter\", \"x\": [2003, 2004, 2005, 2006, 2007, 2008, 2009, 2010, 2011, 2012, 2013, 2014, 2015, 2016, 2017], \"y\": [0.0, 0.0, 0.0, 419.0, 841.0, 444.0, 202.0, 54.0, 6.0, 4.0, 0.0, 0.0, 0.0, 0.0, 0.0], \"mode\": \"lines\", \"name\": \"Buprenorphine\"}, {\"type\": \"scatter\", \"x\": [2003, 2004, 2005, 2006, 2007, 2008, 2009, 2010, 2011, 2012, 2013, 2014, 2015, 2016, 2017], \"y\": [567.0, 111.0, 62.0, 116.0, 690.0, 1216.0, 1425.0, 1787.0, 1924.0, 2239.0, 2062.0, 1560.0, 1253.0, 1041.0, 847.0], \"mode\": \"lines\", \"name\": \"Heroin\"}, {\"type\": \"scatter\", \"x\": [2003, 2004, 2005, 2006, 2007, 2008, 2009, 2010, 2011, 2012, 2013, 2014, 2015, 2016, 2017], \"y\": [497.0, 307.0, 192.0, 186.0, 151.0, 138.0, 162.0, 138.0, 42.0, 30.0, 32.0, 11.0, 6.0, 5.0, 3.0], \"mode\": \"lines\", \"name\": \"Ketamine\"}, {\"type\": \"scatter\", \"x\": [2003, 2004, 2005, 2006, 2007, 2008, 2009, 2010, 2011, 2012, 2013, 2014, 2015, 2016, 2017], \"y\": [369.0, 125.0, 143.0, 124.0, 221.0, 404.0, 542.0, 702.0, 1157.0, 1022.0, 1231.0, 1348.0, 1858.0, 1956.0, 1989.0], \"mode\": \"lines\", \"name\": \"Methamphetamine\"}, {\"type\": \"scatter\", \"x\": [2003, 2004, 2005, 2006, 2007, 2008, 2009, 2010, 2011, 2012, 2013, 2014, 2015, 2016, 2017], \"y\": [0.0, 190.0, 203.0, 181.0, 128.0, 137.0, 120.0, 58.0, 47.0, 51.0, 47.0, 32.0, 19.0, 18.0, 14.0], \"mode\": \"lines\", \"name\": \"Nimetazepam\"}], {\"title\": \"Number of Drug Abusers by Drugs Type (Top 5)\", \"showlegend\": false}, {\"showLink\": true, \"linkText\": \"Export to plot.ly\"})});</script>"
      ]
     },
     "metadata": {},
     "output_type": "display_data"
    }
   ],
   "source": [
    "import plotly.plotly as py\n",
    "from plotly.offline import download_plotlyjs, init_notebook_mode, plot, iplot\n",
    "import plotly.graph_objs as go\n",
    "\n",
    "init_notebook_mode(connected=True)\n",
    "\n",
    "drugs_list =['Buprenorphine','Heroin','Ketamine',\n",
    "             'Methamphetamine','Nimetazepam']\n",
    "\n",
    "data_drugs=[]\n",
    "for category in drugs_list:\n",
    "    data = go.Scatter(\n",
    "        x=by_drugs_pivot_Total['year'],\n",
    "        y=by_drugs_pivot_Total[category],\n",
    "        mode='lines',\n",
    "        name=category\n",
    "        )\n",
    "    data_drugs.append(data)\n",
    "\n",
    "\n",
    "layout = dict(title = 'Number of Drug Abusers by Drugs Type (Top 5)', showlegend=False)\n",
    "fig = dict(data=data_drugs, layout=layout)\n",
    "iplot(fig, filename = 'jupyter/by-drugs')"
   ]
  }
 ],
 "metadata": {
  "kernelspec": {
   "display_name": "Python 3",
   "language": "python",
   "name": "python3"
  },
  "language_info": {
   "codemirror_mode": {
    "name": "ipython",
    "version": 3
   },
   "file_extension": ".py",
   "mimetype": "text/x-python",
   "name": "python",
   "nbconvert_exporter": "python",
   "pygments_lexer": "ipython3",
   "version": "3.6.4"
  }
 },
 "nbformat": 4,
 "nbformat_minor": 2
}
